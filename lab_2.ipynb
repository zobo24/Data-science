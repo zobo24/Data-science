{
 "cells": [
  {
   "cell_type": "markdown",
   "metadata": {
    "id": "fTHck9JJ2UG6"
   },
   "source": [
    "<center><h1> Uvod u podatkovnu znanost  </h1></center>\n",
    "<center><h2> Zimski semestar - 2023 </h2></center> \n",
    "<center><h3> Lab 2</h3></center> \n",
    "<center><h3> </h3></center> \n",
    "<center><h3> NumPy, Matplotlib</h3></center> \n",
    "\n"
   ]
  },
  {
   "cell_type": "markdown",
   "metadata": {
    "id": "dhNcWgxaBJuz"
   },
   "source": [
    "## NUMPY"
   ]
  },
  {
   "cell_type": "markdown",
   "metadata": {
    "id": "2B7qsN1X118_"
   },
   "source": [
    "### Instalacija\n",
    "Na Google colab numpy je već instaliran"
   ]
  },
  {
   "cell_type": "code",
   "execution_count": 1,
   "metadata": {
    "id": "uVx-mfQ66K3x"
   },
   "outputs": [
    {
     "name": "stdout",
     "output_type": "stream",
     "text": [
      "Requirement already satisfied: numpy in c:\\users\\bozom\\desktop\\data_science\\labs\\lib\\site-packages (2.1.3)\n"
     ]
    },
    {
     "name": "stderr",
     "output_type": "stream",
     "text": [
      "\n",
      "[notice] A new release of pip is available: 24.2 -> 24.3.1\n",
      "[notice] To update, run: python.exe -m pip install --upgrade pip\n"
     ]
    }
   ],
   "source": [
    "!pip install numpy"
   ]
  },
  {
   "cell_type": "markdown",
   "metadata": {
    "id": "lKjFMJwP_4AT"
   },
   "source": [
    "### Import"
   ]
  },
  {
   "cell_type": "markdown",
   "metadata": {
    "id": "73BnScqKzAuz"
   },
   "source": [
    "The alias `np` je konvencija koje većinom upotrebljava"
   ]
  },
  {
   "cell_type": "code",
   "execution_count": 2,
   "metadata": {
    "id": "I_Riakur6LH4"
   },
   "outputs": [],
   "source": [
    "import numpy as np"
   ]
  },
  {
   "cell_type": "markdown",
   "metadata": {
    "id": "S5uSdKsMMyE0"
   },
   "source": [
    "### [1] Kreiranje array-a "
   ]
  },
  {
   "cell_type": "markdown",
   "metadata": {
    "id": "Ox3NLEvFozwd"
   },
   "source": [
    "Niz iz liste"
   ]
  },
  {
   "cell_type": "code",
   "execution_count": 3,
   "metadata": {
    "id": "V1o8Cf3B6LSI"
   },
   "outputs": [],
   "source": [
    "my_list = [i for i in range(36)]\n",
    "np_array = np.array(my_list)"
   ]
  },
  {
   "cell_type": "code",
   "execution_count": 4,
   "metadata": {
    "id": "Z2E7LVfW5mHr"
   },
   "outputs": [
    {
     "data": {
      "text/plain": [
       "numpy.ndarray"
      ]
     },
     "execution_count": 4,
     "metadata": {},
     "output_type": "execute_result"
    }
   ],
   "source": [
    "np_array.__class__"
   ]
  },
  {
   "cell_type": "code",
   "execution_count": 5,
   "metadata": {
    "id": "xNIHrKpb6Lbz"
   },
   "outputs": [
    {
     "data": {
      "text/plain": [
       "(36,)"
      ]
     },
     "execution_count": 5,
     "metadata": {},
     "output_type": "execute_result"
    }
   ],
   "source": [
    "np_array.shape"
   ]
  },
  {
   "cell_type": "code",
   "execution_count": 6,
   "metadata": {
    "id": "jpdq2jfL33er"
   },
   "outputs": [
    {
     "data": {
      "text/plain": [
       "dtype('int64')"
      ]
     },
     "execution_count": 6,
     "metadata": {},
     "output_type": "execute_result"
    }
   ],
   "source": [
    "np_array.dtype"
   ]
  },
  {
   "cell_type": "code",
   "execution_count": 7,
   "metadata": {
    "id": "OrejeCXHq88t"
   },
   "outputs": [
    {
     "data": {
      "text/plain": [
       "8"
      ]
     },
     "execution_count": 7,
     "metadata": {},
     "output_type": "execute_result"
    }
   ],
   "source": [
    "np_array.itemsize"
   ]
  },
  {
   "cell_type": "code",
   "execution_count": 8,
   "metadata": {
    "id": "SHylOjlc4CFy"
   },
   "outputs": [
    {
     "data": {
      "text/plain": [
       "array([ 0,  1,  2,  3,  4,  5,  6,  7,  8,  9, 10, 11, 12, 13, 14, 15, 16,\n",
       "       17, 18, 19, 20, 21, 22, 23, 24, 25, 26, 27, 28, 29, 30, 31, 32, 33,\n",
       "       34, 35])"
      ]
     },
     "execution_count": 8,
     "metadata": {},
     "output_type": "execute_result"
    }
   ],
   "source": [
    "np_array"
   ]
  },
  {
   "cell_type": "code",
   "execution_count": 9,
   "metadata": {
    "id": "BPMwdTyPrbGp"
   },
   "outputs": [
    {
     "data": {
      "text/plain": [
       "array([ 0.,  1.,  2.,  3.,  4.,  5.,  6.,  7.,  8.,  9., 10., 11., 12.,\n",
       "       13., 14., 15., 16., 17., 18., 19., 20., 21., 22., 23., 24., 25.,\n",
       "       26., 27., 28., 29., 30., 31., 32., 33., 34., 35.])"
      ]
     },
     "execution_count": 9,
     "metadata": {},
     "output_type": "execute_result"
    }
   ],
   "source": [
    "np_array.astype(np.float64)"
   ]
  },
  {
   "cell_type": "code",
   "execution_count": 10,
   "metadata": {
    "id": "9z8QQJTgrKpe"
   },
   "outputs": [
    {
     "data": {
      "text/plain": [
       "array([ True, False,  True,  True,  True, False,  True,  True, False])"
      ]
     },
     "execution_count": 10,
     "metadata": {},
     "output_type": "execute_result"
    }
   ],
   "source": [
    "np.array([12,0,3,4,5,0,6,7,0],dtype=np.bool_)"
   ]
  },
  {
   "cell_type": "markdown",
   "metadata": {
    "id": "U0LLY4XfM9EZ"
   },
   "source": [
    "Niz iz liste"
   ]
  },
  {
   "cell_type": "code",
   "execution_count": 15,
   "metadata": {
    "id": "pp1pMsTk30AT"
   },
   "outputs": [
    {
     "data": {
      "text/plain": [
       "array([1, 2, 3])"
      ]
     },
     "execution_count": 15,
     "metadata": {},
     "output_type": "execute_result"
    }
   ],
   "source": [
    "np.array([1, 2, 3])"
   ]
  },
  {
   "cell_type": "markdown",
   "metadata": {
    "id": "3Oq4-s_QNJxO"
   },
   "source": [
    "Niz nula"
   ]
  },
  {
   "cell_type": "code",
   "execution_count": 16,
   "metadata": {
    "id": "WP_vRs3W30AW"
   },
   "outputs": [
    {
     "data": {
      "text/plain": [
       "array([0., 0., 0.])"
      ]
     },
     "execution_count": 16,
     "metadata": {},
     "output_type": "execute_result"
    }
   ],
   "source": [
    "np.zeros(3)"
   ]
  },
  {
   "cell_type": "markdown",
   "metadata": {
    "id": "P2xs2zAXNQjv"
   },
   "source": [
    "Niz jedinica"
   ]
  },
  {
   "cell_type": "code",
   "execution_count": 17,
   "metadata": {
    "id": "EbbQvejn30AZ"
   },
   "outputs": [
    {
     "data": {
      "text/plain": [
       "array([1., 1., 1.])"
      ]
     },
     "execution_count": 17,
     "metadata": {},
     "output_type": "execute_result"
    }
   ],
   "source": [
    "np.ones(3)"
   ]
  },
  {
   "cell_type": "markdown",
   "metadata": {
    "id": "s19MZEp-NWPn"
   },
   "source": [
    "Niz od 3 nasumična int broja između 1 i 10\n",
    "\n",
    "\n",
    "```\n",
    "randint(start,end,number_of_values) - number_of_values u interavlu [start,end)\n",
    "```\n",
    "\n"
   ]
  },
  {
   "cell_type": "code",
   "execution_count": 14,
   "metadata": {
    "id": "Eu6mv39-30Ab"
   },
   "outputs": [
    {
     "data": {
      "text/plain": [
       "array([8, 4, 1], dtype=int32)"
      ]
     },
     "execution_count": 14,
     "metadata": {},
     "output_type": "execute_result"
    }
   ],
   "source": [
    "np.random.randint(1,10, 3)"
   ]
  },
  {
   "cell_type": "markdown",
   "metadata": {
    "id": "MQKkksrLrspz"
   },
   "source": [
    "Niz iz 'range-a' integera"
   ]
  },
  {
   "cell_type": "code",
   "execution_count": 18,
   "metadata": {
    "id": "iLaXy-9SrH1m"
   },
   "outputs": [
    {
     "data": {
      "text/plain": [
       "array([ 1,  6, 11, 16, 21, 26, 31, 36, 41, 46, 51, 56, 61, 66, 71, 76, 81,\n",
       "       86, 91, 96])"
      ]
     },
     "execution_count": 18,
     "metadata": {},
     "output_type": "execute_result"
    }
   ],
   "source": [
    "np.arange(1, 100, 5)"
   ]
  },
  {
   "cell_type": "markdown",
   "metadata": {
    "id": "EEP0cFOcNrP2"
   },
   "source": [
    "Niz linearno udaljenih brojeva"
   ]
  },
  {
   "cell_type": "code",
   "execution_count": 19,
   "metadata": {
    "id": "ulOnYoU230Ad"
   },
   "outputs": [
    {
     "data": {
      "text/plain": [
       "array([ 0. ,  2.5,  5. ,  7.5, 10. ])"
      ]
     },
     "execution_count": 19,
     "metadata": {},
     "output_type": "execute_result"
    }
   ],
   "source": [
    "np.linspace(0, 10, 5 )"
   ]
  },
  {
   "cell_type": "markdown",
   "metadata": {
    "id": "ltpGqa5JYIw3"
   },
   "source": [
    "Jednostavan 2D niz"
   ]
  },
  {
   "cell_type": "code",
   "execution_count": 20,
   "metadata": {
    "id": "uvtGjFTR30Af"
   },
   "outputs": [
    {
     "data": {
      "text/plain": [
       "array([[1, 2, 3],\n",
       "       [4, 5, 6],\n",
       "       [7, 8, 9]])"
      ]
     },
     "execution_count": 20,
     "metadata": {},
     "output_type": "execute_result"
    }
   ],
   "source": [
    "np.array([[1,2,3],\n",
    "         [4,5,6],\n",
    "         [7,8,9]])"
   ]
  },
  {
   "cell_type": "markdown",
   "metadata": {
    "id": "qihCXFxcqw6C"
   },
   "source": [
    "Alternativni način za specificiranje višedimenzionalnih nizova"
   ]
  },
  {
   "cell_type": "code",
   "execution_count": 21,
   "metadata": {
    "id": "pOBdF_tTqviJ"
   },
   "outputs": [
    {
     "data": {
      "text/plain": [
       "matrix([[1, 2],\n",
       "        [3, 4]])"
      ]
     },
     "execution_count": 21,
     "metadata": {},
     "output_type": "execute_result"
    }
   ],
   "source": [
    "np.matrix('1 2; 3 4')"
   ]
  },
  {
   "cell_type": "markdown",
   "metadata": {
    "id": "LB3RLmFdX7vD"
   },
   "source": [
    "Niz sa vrijednostima između 0 i 1"
   ]
  },
  {
   "cell_type": "code",
   "execution_count": 22,
   "metadata": {
    "id": "HaTPFxfY30Ah"
   },
   "outputs": [
    {
     "data": {
      "text/plain": [
       "array([[0.35956079, 0.98421685, 0.66756144, 0.1460359 ],\n",
       "       [0.94822574, 0.04376485, 0.4058722 , 0.48013264],\n",
       "       [0.77650147, 0.82577549, 0.6756314 , 0.02098931]])"
      ]
     },
     "execution_count": 22,
     "metadata": {},
     "output_type": "execute_result"
    }
   ],
   "source": [
    "np.random.random((3,4))"
   ]
  },
  {
   "cell_type": "markdown",
   "metadata": {
    "id": "bQ80v76SYCou"
   },
   "source": [
    "Niz sa normalno distribuiranim elementima"
   ]
  },
  {
   "cell_type": "code",
   "execution_count": 23,
   "metadata": {
    "id": "dKo8YPQhF3GO"
   },
   "outputs": [
    {
     "data": {
      "text/plain": [
       "array([[-0.46432519,  0.09219175,  0.66432118, -0.9874874 ],\n",
       "       [-0.19811318, -0.02745217, -1.43964222, -1.84127957],\n",
       "       [ 0.1197755 ,  1.40651961, -0.81255676, -1.11974546]])"
      ]
     },
     "execution_count": 23,
     "metadata": {},
     "output_type": "execute_result"
    }
   ],
   "source": [
    "np.random.randn(3,4)"
   ]
  },
  {
   "cell_type": "markdown",
   "metadata": {
    "id": "0Vdrl2yksN_x"
   },
   "source": [
    "Primjer nizova: 1D niz a te 2D niz b\n"
   ]
  },
  {
   "cell_type": "code",
   "execution_count": 24,
   "metadata": {
    "id": "92oz7rFe30Ak",
    "scrolled": true
   },
   "outputs": [
    {
     "name": "stdout",
     "output_type": "stream",
     "text": [
      "a =  [1 2 3 4]\n",
      "b =  [[2 8 4]\n",
      " [1 6 0]\n",
      " [8 7 7]]\n"
     ]
    }
   ],
   "source": [
    "a = np.array([1,2,3, 4])\n",
    "b = np.random.randint(0,10, (3,3))\n",
    "\n",
    "print(\"a = \",a)\n",
    "print(\"b = \",b)"
   ]
  },
  {
   "cell_type": "markdown",
   "metadata": {
    "id": "JklrMYYcsfBB"
   },
   "source": [
    "Oblik i dimenzija nizova"
   ]
  },
  {
   "cell_type": "code",
   "execution_count": 25,
   "metadata": {
    "id": "obBJnmLl30Ao"
   },
   "outputs": [
    {
     "name": "stdout",
     "output_type": "stream",
     "text": [
      "Shape of a: (4,)\n",
      "Shape of b: (3, 3)\n",
      "Dimension of a: 1\n",
      "Dimension of b: 2\n"
     ]
    }
   ],
   "source": [
    "print(\"Shape of a:\", np.shape(a))\n",
    "print(\"Shape of b:\", np.shape(b))\n",
    "\n",
    "print('Dimension of a:', np.ndim(a))\n",
    "print('Dimension of b:', np.ndim(b))"
   ]
  },
  {
   "cell_type": "markdown",
   "metadata": {
    "id": "k9dE7QVQsjQ3"
   },
   "source": [
    "Broj elemenata"
   ]
  },
  {
   "cell_type": "code",
   "execution_count": 26,
   "metadata": {
    "id": "M5a5sEo530Ap"
   },
   "outputs": [
    {
     "name": "stdout",
     "output_type": "stream",
     "text": [
      "Number of elements in a: 4\n",
      "Number of elements in b: 9\n"
     ]
    }
   ],
   "source": [
    "print('Number of elements in a:', np.size(a))\n",
    "print('Number of elements in b:', np.size(b))"
   ]
  },
  {
   "cell_type": "markdown",
   "metadata": {
    "id": "P9ktlJpS30As"
   },
   "source": [
    "### [2] Indeksiranje"
   ]
  },
  {
   "cell_type": "markdown",
   "metadata": {
    "id": "_tX1uDqgs7Yg"
   },
   "source": [
    "Prvi element od a"
   ]
  },
  {
   "cell_type": "code",
   "execution_count": 27,
   "metadata": {
    "id": "0KiQc0GL30A0"
   },
   "outputs": [
    {
     "name": "stdout",
     "output_type": "stream",
     "text": [
      "1\n",
      "1\n"
     ]
    }
   ],
   "source": [
    "print(a[0])\n",
    "print(a[-4])"
   ]
  },
  {
   "cell_type": "markdown",
   "metadata": {
    "id": "aArcxZxus8_W"
   },
   "source": [
    "Zadnji element od a"
   ]
  },
  {
   "cell_type": "code",
   "execution_count": 28,
   "metadata": {
    "id": "d-2JMaSG30A4"
   },
   "outputs": [
    {
     "name": "stdout",
     "output_type": "stream",
     "text": [
      "4\n",
      "4\n"
     ]
    }
   ],
   "source": [
    "print(a[-1])\n",
    "print(a[3])"
   ]
  },
  {
   "cell_type": "markdown",
   "metadata": {
    "id": "yqId4f3stAO8"
   },
   "source": [
    "Prvi redak od b"
   ]
  },
  {
   "cell_type": "code",
   "execution_count": 29,
   "metadata": {
    "id": "5yLi8hNw30A6"
   },
   "outputs": [
    {
     "name": "stdout",
     "output_type": "stream",
     "text": [
      "[2 8 4]\n",
      "[2 8 4]\n"
     ]
    }
   ],
   "source": [
    "print(b[0]) \n",
    "print(b[0,:])"
   ]
  },
  {
   "cell_type": "markdown",
   "metadata": {
    "id": "D47ZEqpGtET2"
   },
   "source": [
    "Drugi stupac od b"
   ]
  },
  {
   "cell_type": "code",
   "execution_count": 30,
   "metadata": {
    "id": "gJcTX8pC30A8"
   },
   "outputs": [
    {
     "data": {
      "text/plain": [
       "array([8, 6, 7], dtype=int32)"
      ]
     },
     "execution_count": 30,
     "metadata": {},
     "output_type": "execute_result"
    }
   ],
   "source": [
    "b[:,1]"
   ]
  },
  {
   "cell_type": "markdown",
   "metadata": {
    "id": "qR-6Vo8ktI-Q"
   },
   "source": [
    "Dva nova niza"
   ]
  },
  {
   "cell_type": "code",
   "execution_count": 31,
   "metadata": {
    "id": "XtMiu1wj30A-"
   },
   "outputs": [
    {
     "name": "stdout",
     "output_type": "stream",
     "text": [
      "['a' 'b' 'c']\n",
      "[['d' 'e' 'f']\n",
      " ['g' 'h' 'k']]\n"
     ]
    }
   ],
   "source": [
    "x = np.array(['a', 'b', 'c'])\n",
    "y = np.array([['d','e','f'], \n",
    "              ['g', 'h', 'k']])\n",
    "\n",
    "print(x)\n",
    "print(y)"
   ]
  },
  {
   "cell_type": "markdown",
   "metadata": {
    "id": "gBCL_UPytRmp"
   },
   "source": [
    "Indeksiranje 'c' iz x"
   ]
  },
  {
   "cell_type": "code",
   "execution_count": 32,
   "metadata": {
    "id": "9yRkolt330BI"
   },
   "outputs": [
    {
     "data": {
      "text/plain": [
       "array(['c'], dtype='<U1')"
      ]
     },
     "execution_count": 32,
     "metadata": {},
     "output_type": "execute_result"
    }
   ],
   "source": [
    "ind = [2]\n",
    "x[ind]"
   ]
  },
  {
   "cell_type": "markdown",
   "metadata": {
    "id": "texW-VHk30BN"
   },
   "source": [
    "### [3] Slicing\n"
   ]
  },
  {
   "cell_type": "markdown",
   "metadata": {
    "id": "-3UY_gVVtmNU"
   },
   "source": [
    "Primjer integera između 1 i 10"
   ]
  },
  {
   "cell_type": "code",
   "execution_count": 33,
   "metadata": {
    "id": "YohttjXd30BO"
   },
   "outputs": [
    {
     "data": {
      "text/plain": [
       "array([ 1,  2,  3,  4,  5,  6,  7,  8,  9, 10])"
      ]
     },
     "execution_count": 33,
     "metadata": {},
     "output_type": "execute_result"
    }
   ],
   "source": [
    "X = np.arange(1, 11, dtype=int)\n",
    "X"
   ]
  },
  {
   "cell_type": "markdown",
   "metadata": {
    "id": "MxGdY-zFto5A"
   },
   "source": [
    "Prva dva elementa od X"
   ]
  },
  {
   "cell_type": "code",
   "execution_count": 34,
   "metadata": {
    "id": "AVU-sx-w30BP"
   },
   "outputs": [
    {
     "data": {
      "text/plain": [
       "array([1, 2])"
      ]
     },
     "execution_count": 34,
     "metadata": {},
     "output_type": "execute_result"
    }
   ],
   "source": [
    "X[:2]"
   ]
  },
  {
   "cell_type": "markdown",
   "metadata": {
    "id": "mow-9Ee3tsge"
   },
   "source": [
    "Elementi iz sredine = 3, 4, 5"
   ]
  },
  {
   "cell_type": "code",
   "execution_count": 35,
   "metadata": {
    "id": "XidRDF0E30BS"
   },
   "outputs": [
    {
     "data": {
      "text/plain": [
       "array([3, 4, 5])"
      ]
     },
     "execution_count": 35,
     "metadata": {},
     "output_type": "execute_result"
    }
   ],
   "source": [
    "X[2:5]"
   ]
  },
  {
   "cell_type": "markdown",
   "metadata": {
    "id": "xDzI4-yHtztv"
   },
   "source": [
    "Samo neparni redni brojevi"
   ]
  },
  {
   "cell_type": "code",
   "execution_count": 36,
   "metadata": {
    "id": "MQOMFZ-E30BU"
   },
   "outputs": [
    {
     "data": {
      "text/plain": [
       "array([1, 3, 5, 7, 9])"
      ]
     },
     "execution_count": 36,
     "metadata": {},
     "output_type": "execute_result"
    }
   ],
   "source": [
    "X[::2]"
   ]
  },
  {
   "cell_type": "markdown",
   "metadata": {
    "id": "HAOvTXDmt9Zi"
   },
   "source": [
    "Parni redni brojevi"
   ]
  },
  {
   "cell_type": "code",
   "execution_count": 37,
   "metadata": {
    "id": "BClbH8_N30BV"
   },
   "outputs": [
    {
     "data": {
      "text/plain": [
       "array([ 2,  4,  6,  8, 10])"
      ]
     },
     "execution_count": 37,
     "metadata": {},
     "output_type": "execute_result"
    }
   ],
   "source": [
    "X[1::2]"
   ]
  },
  {
   "cell_type": "markdown",
   "metadata": {
    "id": "dzaD9fQzuBNK"
   },
   "source": [
    "Primjer 2D niza"
   ]
  },
  {
   "cell_type": "code",
   "execution_count": 38,
   "metadata": {
    "id": "mbHDuPI030BX"
   },
   "outputs": [
    {
     "data": {
      "text/plain": [
       "array([[1, 2, 3],\n",
       "       [4, 5, 6],\n",
       "       [7, 8, 9]])"
      ]
     },
     "execution_count": 38,
     "metadata": {},
     "output_type": "execute_result"
    }
   ],
   "source": [
    "Y= np.arange(1,10).reshape(3,3)\n",
    "Y"
   ]
  },
  {
   "cell_type": "markdown",
   "metadata": {
    "id": "CcbH979wuEVF"
   },
   "source": [
    "Prvi i drugi red\n"
   ]
  },
  {
   "cell_type": "code",
   "execution_count": 39,
   "metadata": {
    "id": "30LG8L4530BY"
   },
   "outputs": [
    {
     "data": {
      "text/plain": [
       "array([[1, 2, 3],\n",
       "       [4, 5, 6]])"
      ]
     },
     "execution_count": 39,
     "metadata": {},
     "output_type": "execute_result"
    }
   ],
   "source": [
    "Y[:2,:]"
   ]
  },
  {
   "cell_type": "markdown",
   "metadata": {
    "id": "dvzDXeptuI0b"
   },
   "source": [
    "Drugi i treći stupac"
   ]
  },
  {
   "cell_type": "code",
   "execution_count": 40,
   "metadata": {
    "id": "5-spSpsr30Ba"
   },
   "outputs": [
    {
     "data": {
      "text/plain": [
       "array([[2, 3],\n",
       "       [5, 6],\n",
       "       [8, 9]])"
      ]
     },
     "execution_count": 40,
     "metadata": {},
     "output_type": "execute_result"
    }
   ],
   "source": [
    "Y[:, 1:]"
   ]
  },
  {
   "cell_type": "markdown",
   "metadata": {
    "id": "jbg72kXWuWGd"
   },
   "source": [
    "Parcijalni redak : 5, 6\n"
   ]
  },
  {
   "cell_type": "code",
   "execution_count": 41,
   "metadata": {
    "id": "A-Bo9Lam30Bb"
   },
   "outputs": [
    {
     "data": {
      "text/plain": [
       "array([5, 6])"
      ]
     },
     "execution_count": 41,
     "metadata": {},
     "output_type": "execute_result"
    }
   ],
   "source": [
    "Y[1,1:]"
   ]
  },
  {
   "cell_type": "markdown",
   "metadata": {
    "id": "i8VuqiFj30Bd"
   },
   "source": [
    "### [4] Univerzalne funkcije (ufuncs)\n",
    "**Brze operacije na nizovima**"
   ]
  },
  {
   "cell_type": "code",
   "execution_count": 42,
   "metadata": {
    "id": "n5Zpl20m30Be"
   },
   "outputs": [
    {
     "data": {
      "text/plain": [
       "array([ 1,  2,  3,  4,  5,  6,  7,  8,  9, 10])"
      ]
     },
     "execution_count": 42,
     "metadata": {},
     "output_type": "execute_result"
    }
   ],
   "source": [
    "X"
   ]
  },
  {
   "cell_type": "markdown",
   "metadata": {
    "id": "YZ_OGaequnk7"
   },
   "source": [
    "Maximum element"
   ]
  },
  {
   "cell_type": "code",
   "execution_count": 43,
   "metadata": {
    "id": "c7qvoqAM30Bi"
   },
   "outputs": [
    {
     "data": {
      "text/plain": [
       "np.int64(10)"
      ]
     },
     "execution_count": 43,
     "metadata": {},
     "output_type": "execute_result"
    }
   ],
   "source": [
    "np.max(X)"
   ]
  },
  {
   "cell_type": "markdown",
   "metadata": {
    "id": "Esmm1tAwupnG"
   },
   "source": [
    "Mean svih elemenata"
   ]
  },
  {
   "cell_type": "code",
   "execution_count": 44,
   "metadata": {
    "id": "GxkPQwBh30Bk"
   },
   "outputs": [
    {
     "data": {
      "text/plain": [
       "np.float64(5.5)"
      ]
     },
     "execution_count": 44,
     "metadata": {},
     "output_type": "execute_result"
    }
   ],
   "source": [
    "np.mean(X)"
   ]
  },
  {
   "cell_type": "markdown",
   "metadata": {
    "id": "EFDNjCdUuuEd"
   },
   "source": [
    "Svi elementi na potenciju broja 4\n"
   ]
  },
  {
   "cell_type": "code",
   "execution_count": 45,
   "metadata": {
    "id": "1_vAnx-t30Bl"
   },
   "outputs": [
    {
     "data": {
      "text/plain": [
       "array([    1,    16,    81,   256,   625,  1296,  2401,  4096,  6561,\n",
       "       10000])"
      ]
     },
     "execution_count": 45,
     "metadata": {},
     "output_type": "execute_result"
    }
   ],
   "source": [
    "np.power(X, 4)"
   ]
  },
  {
   "cell_type": "markdown",
   "metadata": {
    "id": "78xX7sYwuyQA"
   },
   "source": [
    "Trigonometrijske funkcije"
   ]
  },
  {
   "cell_type": "code",
   "execution_count": 47,
   "metadata": {
    "id": "3hI7QfFi30Bn"
   },
   "outputs": [
    {
     "name": "stdout",
     "output_type": "stream",
     "text": [
      "[ 0.84147098  0.90929743  0.14112001 -0.7568025  -0.95892427 -0.2794155\n",
      "  0.6569866   0.98935825  0.41211849 -0.54402111]\n",
      "[ 1.55740772 -2.18503986 -0.14254654  1.15782128 -3.38051501 -0.29100619\n",
      "  0.87144798 -6.79971146 -0.45231566  0.64836083]\n"
     ]
    }
   ],
   "source": [
    "print(np.sin(X))\n",
    "print(np.tan(X))"
   ]
  },
  {
   "cell_type": "markdown",
   "metadata": {
    "id": "nUD0Qrr9u16C"
   },
   "source": [
    "Računanje $(sin \\; x_{ij})^2 + (cos \\; x_{ij})^2$ za svaki element"
   ]
  },
  {
   "cell_type": "code",
   "execution_count": 48,
   "metadata": {
    "id": "xax0W2nm30Bq"
   },
   "outputs": [
    {
     "data": {
      "text/plain": [
       "array([1., 1., 1., 1., 1., 1., 1., 1., 1., 1.])"
      ]
     },
     "execution_count": 48,
     "metadata": {},
     "output_type": "execute_result"
    }
   ],
   "source": [
    "# x2 + y2 = 1\n",
    "np.square(np.sin(X)) + np.square(np.cos(X))"
   ]
  },
  {
   "cell_type": "markdown",
   "metadata": {
    "id": "g-HHXNfHvG2U"
   },
   "source": [
    "2D niz"
   ]
  },
  {
   "cell_type": "code",
   "execution_count": 49,
   "metadata": {
    "id": "vXPH4FQm30Bs"
   },
   "outputs": [
    {
     "data": {
      "text/plain": [
       "array([[1, 2, 3],\n",
       "       [4, 5, 6],\n",
       "       [7, 8, 9]])"
      ]
     },
     "execution_count": 49,
     "metadata": {},
     "output_type": "execute_result"
    }
   ],
   "source": [
    "Y"
   ]
  },
  {
   "cell_type": "markdown",
   "metadata": {
    "id": "NMJAcurrvJjw"
   },
   "source": [
    "Množenje svakog elementa"
   ]
  },
  {
   "cell_type": "code",
   "execution_count": 50,
   "metadata": {
    "id": "MHn_A5aA30Bv"
   },
   "outputs": [
    {
     "data": {
      "text/plain": [
       "array([[ 2,  4,  6],\n",
       "       [ 8, 10, 12],\n",
       "       [14, 16, 18]])"
      ]
     },
     "execution_count": 50,
     "metadata": {},
     "output_type": "execute_result"
    }
   ],
   "source": [
    "np.multiply(Y, 2)"
   ]
  },
  {
   "cell_type": "markdown",
   "metadata": {
    "id": "5tiEaGDzvOFX"
   },
   "source": [
    "Split Y u 3 podniza"
   ]
  },
  {
   "cell_type": "code",
   "execution_count": 51,
   "metadata": {
    "id": "dvlh8zz530Bx"
   },
   "outputs": [
    {
     "data": {
      "text/plain": [
       "[array([[1, 2, 3]]), array([[4, 5, 6]]), array([[7, 8, 9]])]"
      ]
     },
     "execution_count": 51,
     "metadata": {},
     "output_type": "execute_result"
    }
   ],
   "source": [
    "np.split(Y, 3)"
   ]
  },
  {
   "cell_type": "markdown",
   "metadata": {
    "id": "h8NcgJ8v30Bz"
   },
   "source": [
    "### [5] Broadcasting"
   ]
  },
  {
   "cell_type": "markdown",
   "metadata": {
    "id": "e9K7DgOP30Bz"
   },
   "source": [
    " Broadcasting oredstavlja mogućnost korištenja ufuncs i mnogih drugih operacija na nizove različitih nizova"
   ]
  },
  {
   "cell_type": "code",
   "execution_count": 52,
   "metadata": {
    "id": "F1TvYZLT30Bz"
   },
   "outputs": [
    {
     "data": {
      "text/plain": [
       "array([ 1,  2,  3,  4,  5,  6,  7,  8,  9, 10])"
      ]
     },
     "execution_count": 52,
     "metadata": {},
     "output_type": "execute_result"
    }
   ],
   "source": [
    "X"
   ]
  },
  {
   "cell_type": "markdown",
   "metadata": {
    "id": "CBmSFhEMvYBM"
   },
   "source": [
    "Dodavanje 5 na svaki element"
   ]
  },
  {
   "cell_type": "code",
   "execution_count": 53,
   "metadata": {
    "id": "OybWQPju30B1"
   },
   "outputs": [
    {
     "data": {
      "text/plain": [
       "array([ 6,  7,  8,  9, 10, 11, 12, 13, 14, 15])"
      ]
     },
     "execution_count": 53,
     "metadata": {},
     "output_type": "execute_result"
    }
   ],
   "source": [
    "X + 5"
   ]
  },
  {
   "cell_type": "code",
   "execution_count": 54,
   "metadata": {
    "id": "lCqg_Wm330B3"
   },
   "outputs": [
    {
     "data": {
      "text/plain": [
       "array([ 6,  7,  8,  9, 10, 11, 12, 13, 14, 15])"
      ]
     },
     "execution_count": 54,
     "metadata": {},
     "output_type": "execute_result"
    }
   ],
   "source": [
    "np.add(X, 5)"
   ]
  },
  {
   "cell_type": "markdown",
   "metadata": {
    "id": "GKeed4JKvc1y"
   },
   "source": [
    "Niz Z sa newaxis"
   ]
  },
  {
   "cell_type": "code",
   "execution_count": 55,
   "metadata": {
    "id": "pHCIA7ye30B6"
   },
   "outputs": [
    {
     "data": {
      "text/plain": [
       "array([[0],\n",
       "       [1],\n",
       "       [2]])"
      ]
     },
     "execution_count": 55,
     "metadata": {},
     "output_type": "execute_result"
    }
   ],
   "source": [
    "Z = np.arange(3)[:, np.newaxis]\n",
    "Z"
   ]
  },
  {
   "cell_type": "code",
   "execution_count": 56,
   "metadata": {
    "id": "-AbjREHUvkLD"
   },
   "outputs": [
    {
     "data": {
      "text/plain": [
       "(3, 1)"
      ]
     },
     "execution_count": 56,
     "metadata": {},
     "output_type": "execute_result"
    }
   ],
   "source": [
    "Z.shape"
   ]
  },
  {
   "cell_type": "code",
   "execution_count": 57,
   "metadata": {
    "id": "MSaoZMjIvug7"
   },
   "outputs": [
    {
     "data": {
      "text/plain": [
       "(3, 3)"
      ]
     },
     "execution_count": 57,
     "metadata": {},
     "output_type": "execute_result"
    }
   ],
   "source": [
    "Y.shape"
   ]
  },
  {
   "cell_type": "code",
   "execution_count": 58,
   "metadata": {
    "id": "lHRMcBgc30B8"
   },
   "outputs": [
    {
     "data": {
      "text/plain": [
       "array([[ 0,  0,  0],\n",
       "       [ 4,  5,  6],\n",
       "       [14, 16, 18]])"
      ]
     },
     "execution_count": 58,
     "metadata": {},
     "output_type": "execute_result"
    }
   ],
   "source": [
    "np.multiply(Y, Z)"
   ]
  },
  {
   "cell_type": "code",
   "execution_count": 59,
   "metadata": {
    "id": "FxuA0fenF3Rc"
   },
   "outputs": [
    {
     "data": {
      "text/plain": [
       "array([[ 8],\n",
       "       [17],\n",
       "       [26]])"
      ]
     },
     "execution_count": 59,
     "metadata": {},
     "output_type": "execute_result"
    }
   ],
   "source": [
    "np.matmul(Y, Z)"
   ]
  },
  {
   "cell_type": "markdown",
   "metadata": {
    "id": "cdp7oTYT30B-"
   },
   "source": [
    "### [6] Druge operacije"
   ]
  },
  {
   "cell_type": "code",
   "execution_count": 60,
   "metadata": {
    "id": "n6__1gGJ30B_"
   },
   "outputs": [
    {
     "data": {
      "text/plain": [
       "array([2, 1, 3, 2, 4, 1, 4, 1, 2, 4], dtype=int32)"
      ]
     },
     "execution_count": 60,
     "metadata": {},
     "output_type": "execute_result"
    }
   ],
   "source": [
    "x = np.random.randint(1,5, 10)\n",
    "x"
   ]
  },
  {
   "cell_type": "code",
   "execution_count": 61,
   "metadata": {
    "id": "2AhVk4Ru30CB"
   },
   "outputs": [
    {
     "data": {
      "text/plain": [
       "array([[3, 2, 1],\n",
       "       [4, 1, 2],\n",
       "       [4, 2, 4]], dtype=int32)"
      ]
     },
     "execution_count": 61,
     "metadata": {},
     "output_type": "execute_result"
    }
   ],
   "source": [
    "y = np.random.randint(1,5, (3,3))\n",
    "y"
   ]
  },
  {
   "cell_type": "markdown",
   "metadata": {
    "id": "VvtDh1yLwKzg"
   },
   "source": [
    "Sortiranje"
   ]
  },
  {
   "cell_type": "code",
   "execution_count": 62,
   "metadata": {
    "id": "mom7_ymM30CD"
   },
   "outputs": [
    {
     "data": {
      "text/plain": [
       "array([1, 1, 1, 2, 2, 2, 3, 4, 4, 4], dtype=int32)"
      ]
     },
     "execution_count": 62,
     "metadata": {},
     "output_type": "execute_result"
    }
   ],
   "source": [
    "np.sort(x)"
   ]
  },
  {
   "cell_type": "markdown",
   "metadata": {
    "id": "eGrKxoUFwMnP"
   },
   "source": [
    "Sortiranje po redcima"
   ]
  },
  {
   "cell_type": "code",
   "execution_count": 63,
   "metadata": {
    "id": "PTtb3TYN30CF"
   },
   "outputs": [
    {
     "data": {
      "text/plain": [
       "array([[3, 1, 1],\n",
       "       [4, 2, 2],\n",
       "       [4, 2, 4]], dtype=int32)"
      ]
     },
     "execution_count": 63,
     "metadata": {},
     "output_type": "execute_result"
    }
   ],
   "source": [
    "np.sort(y, axis=0)"
   ]
  },
  {
   "cell_type": "markdown",
   "metadata": {
    "id": "PvNTU6tOwVNR"
   },
   "source": [
    "Sortiranje po stupcima"
   ]
  },
  {
   "cell_type": "code",
   "execution_count": 64,
   "metadata": {
    "id": "c0xS9Sge30CH"
   },
   "outputs": [
    {
     "data": {
      "text/plain": [
       "array([[1, 2, 3],\n",
       "       [1, 2, 4],\n",
       "       [2, 4, 4]], dtype=int32)"
      ]
     },
     "execution_count": 64,
     "metadata": {},
     "output_type": "execute_result"
    }
   ],
   "source": [
    "np.sort(y, axis=1)"
   ]
  },
  {
   "cell_type": "markdown",
   "metadata": {
    "id": "tLjHjmxIwYsD"
   },
   "source": [
    "Conditions primijenjen na nizove"
   ]
  },
  {
   "cell_type": "code",
   "execution_count": 65,
   "metadata": {
    "id": "NCi1o1ey30CJ"
   },
   "outputs": [
    {
     "data": {
      "text/plain": [
       "array([False, False, False, False,  True, False,  True, False, False,\n",
       "        True])"
      ]
     },
     "execution_count": 65,
     "metadata": {},
     "output_type": "execute_result"
    }
   ],
   "source": [
    "# == , !=, < , >, >=, <= operations on arrays\n",
    "x > 3"
   ]
  },
  {
   "cell_type": "markdown",
   "metadata": {
    "id": "WyvfBEFHwe_b"
   },
   "source": [
    "Maskiranje niza"
   ]
  },
  {
   "cell_type": "code",
   "execution_count": 66,
   "metadata": {
    "id": "hEiZgr5-30CK"
   },
   "outputs": [
    {
     "data": {
      "text/plain": [
       "array([4, 4, 4], dtype=int32)"
      ]
     },
     "execution_count": 66,
     "metadata": {},
     "output_type": "execute_result"
    }
   ],
   "source": [
    "x[x>3]"
   ]
  },
  {
   "cell_type": "code",
   "execution_count": 67,
   "metadata": {
    "id": "Rw-zn_Z230CM"
   },
   "outputs": [
    {
     "data": {
      "text/plain": [
       "array([2, 3, 2, 2], dtype=int32)"
      ]
     },
     "execution_count": 67,
     "metadata": {},
     "output_type": "execute_result"
    }
   ],
   "source": [
    "x[(x <= 3) & (x>1)]"
   ]
  },
  {
   "cell_type": "markdown",
   "metadata": {
    "id": "E9LHp9UECBLD"
   },
   "source": [
    "## MATPLOTLIB"
   ]
  },
  {
   "cell_type": "markdown",
   "metadata": {
    "id": "rkaj4RksCIT8"
   },
   "source": [
    "### Instalacija"
   ]
  },
  {
   "cell_type": "code",
   "execution_count": 68,
   "metadata": {
    "id": "qAuH1YS3CB1v"
   },
   "outputs": [
    {
     "name": "stdout",
     "output_type": "stream",
     "text": [
      "Requirement already satisfied: matplotlib in c:\\users\\bozom\\desktop\\data_science\\labs\\lib\\site-packages (3.9.2)\n",
      "Requirement already satisfied: contourpy>=1.0.1 in c:\\users\\bozom\\desktop\\data_science\\labs\\lib\\site-packages (from matplotlib) (1.3.1)\n",
      "Requirement already satisfied: cycler>=0.10 in c:\\users\\bozom\\desktop\\data_science\\labs\\lib\\site-packages (from matplotlib) (0.12.1)\n",
      "Requirement already satisfied: fonttools>=4.22.0 in c:\\users\\bozom\\desktop\\data_science\\labs\\lib\\site-packages (from matplotlib) (4.54.1)\n",
      "Requirement already satisfied: kiwisolver>=1.3.1 in c:\\users\\bozom\\desktop\\data_science\\labs\\lib\\site-packages (from matplotlib) (1.4.7)\n",
      "Requirement already satisfied: numpy>=1.23 in c:\\users\\bozom\\desktop\\data_science\\labs\\lib\\site-packages (from matplotlib) (2.1.3)\n",
      "Requirement already satisfied: packaging>=20.0 in c:\\users\\bozom\\desktop\\data_science\\labs\\lib\\site-packages (from matplotlib) (24.2)\n",
      "Requirement already satisfied: pillow>=8 in c:\\users\\bozom\\desktop\\data_science\\labs\\lib\\site-packages (from matplotlib) (11.0.0)\n",
      "Requirement already satisfied: pyparsing>=2.3.1 in c:\\users\\bozom\\desktop\\data_science\\labs\\lib\\site-packages (from matplotlib) (3.2.0)\n",
      "Requirement already satisfied: python-dateutil>=2.7 in c:\\users\\bozom\\desktop\\data_science\\labs\\lib\\site-packages (from matplotlib) (2.9.0.post0)\n",
      "Requirement already satisfied: six>=1.5 in c:\\users\\bozom\\desktop\\data_science\\labs\\lib\\site-packages (from python-dateutil>=2.7->matplotlib) (1.16.0)\n"
     ]
    }
   ],
   "source": [
    "!pip install matplotlib"
   ]
  },
  {
   "cell_type": "markdown",
   "metadata": {
    "id": "edMrTIiNCdOx"
   },
   "source": [
    "### Import"
   ]
  },
  {
   "cell_type": "code",
   "execution_count": 69,
   "metadata": {
    "id": "xbx2UfKYCdcP"
   },
   "outputs": [],
   "source": [
    "import matplotlib.pyplot as plt"
   ]
  },
  {
   "cell_type": "markdown",
   "metadata": {
    "id": "WALI8x49GUpe"
   },
   "source": [
    "### [1] Line Plots"
   ]
  },
  {
   "cell_type": "code",
   "execution_count": 70,
   "metadata": {
    "id": "k6dVf2brBHdX"
   },
   "outputs": [
    {
     "data": {
      "image/png": "[encoded data removed]",
      "text/plain": [
       "<Figure size 640x480 with 1 Axes>"
      ]
     },
     "metadata": {},
     "output_type": "display_data"
    }
   ],
   "source": [
    "x = np.linspace(0,10)\n",
    "plt.plot(x)\n",
    "plt.show()"
   ]
  },
  {
   "cell_type": "code",
   "execution_count": 71,
   "metadata": {
    "id": "YPqysZYJAs2C"
   },
   "outputs": [
    {
     "data": {
      "image/png": "[encoded data removed]",
      "text/plain": [
       "<Figure size 640x480 with 1 Axes>"
      ]
     },
     "metadata": {},
     "output_type": "display_data"
    }
   ],
   "source": [
    "x = np.linspace(0,10)\n",
    "y = np.exp(x)\n",
    "plt.plot(x,y)\n",
    "plt.show()"
   ]
  },
  {
   "cell_type": "code",
   "execution_count": 72,
   "metadata": {
    "id": "08RTGn_xE3MP"
   },
   "outputs": [
    {
     "data": {
      "image/png": "[encoded data removed]",
      "text/plain": [
       "<Figure size 640x480 with 1 Axes>"
      ]
     },
     "metadata": {},
     "output_type": "display_data"
    }
   ],
   "source": [
    "x  = [1, 2, 3, 4, 5, 6, 7, 8, 9]\n",
    "y1 = [1, 3, 5, 3, 1, 3, 5, 3, 1]\n",
    "y2 = [2, 4, 6, 4, 2, 4, 6, 4, 2]\n",
    "plt.plot(x, y1, label=\"line L\")\n",
    "plt.plot(x, y2, label=\"line H\")\n",
    "plt.plot()\n",
    "\n",
    "plt.xlabel(\"x axis\")\n",
    "plt.ylabel(\"y axis\")\n",
    "plt.title(\"Line Graph Example\")\n",
    "plt.legend()\n",
    "plt.show()"
   ]
  },
  {
   "cell_type": "markdown",
   "metadata": {
    "id": "sIZLTZ0pdo0Z"
   },
   "source": [
    "### [2] Bar Plots"
   ]
  },
  {
   "cell_type": "code",
   "execution_count": 74,
   "metadata": {
    "id": "bZv4MenQpYOF"
   },
   "outputs": [
    {
     "data": {
      "image/png": "[encoded data removed]",
      "text/plain": [
       "<Figure size 640x480 with 1 Axes>"
      ]
     },
     "metadata": {},
     "output_type": "display_data"
    }
   ],
   "source": [
    "# Look at index 4 and 6, which demonstrate overlapping cases.\n",
    "x1 = [1, 3, 4, 5, 6, 7, 9]\n",
    "y1 = [4, 7, 2, 4, 7, 8, 3]\n",
    "\n",
    "x2 = [2, 4, 6, 8, 10]\n",
    "y2 = [5, 6, 2, 6, 2]\n",
    "\n",
    "# Colors: https://matplotlib.org/api/colors_api.html\n",
    "\n",
    "plt.bar(x1, y1, label=\"Blue Bar\", color='b')\n",
    "plt.bar(x2, y2, label=\"Green Bar\", color='g')\n",
    "plt.plot()\n",
    "\n",
    "plt.xlabel(\"bar number\")\n",
    "plt.ylabel(\"bar height\")\n",
    "plt.title(\"Bar Chart Example\")\n",
    "plt.legend()\n",
    "plt.show()"
   ]
  },
  {
   "cell_type": "markdown",
   "metadata": {
    "id": "YQO2Lw8Xdu7x"
   },
   "source": [
    "### [3] Histograms"
   ]
  },
  {
   "cell_type": "code",
   "execution_count": 75,
   "metadata": {
    "cellView": "both",
    "id": "SZ-DMbnPMbMY"
   },
   "outputs": [
    {
     "data": {
      "image/png": "[encoded data removed]",
      "text/plain": [
       "<Figure size 640x480 with 1 Axes>"
      ]
     },
     "metadata": {},
     "output_type": "display_data"
    },
    {
     "data": {
      "image/png": "[encoded data removed]",
      "text/plain": [
       "<Figure size 640x480 with 1 Axes>"
      ]
     },
     "metadata": {},
     "output_type": "display_data"
    },
    {
     "data": {
      "image/png": "[encoded data removed]",
      "text/plain": [
       "<Figure size 640x480 with 1 Axes>"
      ]
     },
     "metadata": {},
     "output_type": "display_data"
    }
   ],
   "source": [
    "# Use numpy to generate a bunch of random data in a bell curve around 5.\n",
    "n = 5 + np.random.randn(1000)\n",
    "\n",
    "m = [m for m in range(len(n))]\n",
    "plt.bar(m, n)\n",
    "plt.title(\"Raw Data\")\n",
    "plt.show()\n",
    "\n",
    "plt.hist(n, bins=20)\n",
    "plt.title(\"Histogram\")\n",
    "plt.show()\n",
    "\n",
    "plt.hist(n, cumulative=True, bins=20)\n",
    "plt.title(\"Cumulative Histogram\")\n",
    "plt.show()"
   ]
  },
  {
   "cell_type": "markdown",
   "metadata": {
    "id": "9-CelVUmdz8r"
   },
   "source": [
    "### [4] Scatter Plots"
   ]
  },
  {
   "cell_type": "code",
   "execution_count": 76,
   "metadata": {
    "id": "79C7jc9mv-Ji"
   },
   "outputs": [
    {
     "data": {
      "image/png": "[encoded data removed]",
      "text/plain": [
       "<Figure size 640x480 with 1 Axes>"
      ]
     },
     "metadata": {},
     "output_type": "display_data"
    }
   ],
   "source": [
    "x1 = [2, 3, 4]\n",
    "y1 = [5, 5, 5]\n",
    "\n",
    "x2 = [1, 2, 3, 4, 5]\n",
    "y2 = [2, 3, 2, 3, 4]\n",
    "y3 = [6, 8, 7, 8, 7]\n",
    "\n",
    "# Markers: https://matplotlib.org/api/markers_api.html\n",
    "\n",
    "plt.scatter(x1, y1)\n",
    "plt.scatter(x2, y2, marker='v', color='r')\n",
    "plt.scatter(x2, y3, marker='^', color='m')\n",
    "plt.title('Scatter Plot Example')\n",
    "plt.show()"
   ]
  },
  {
   "cell_type": "markdown",
   "metadata": {
    "id": "nlk-Sk0Nd82p"
   },
   "source": [
    "### [5] Stack Plots"
   ]
  },
  {
   "cell_type": "code",
   "execution_count": 77,
   "metadata": {
    "id": "5sxEM0pJzpgr"
   },
   "outputs": [
    {
     "data": {
      "image/png": "[encoded data removed]",
      "text/plain": [
       "<Figure size 640x480 with 1 Axes>"
      ]
     },
     "metadata": {},
     "output_type": "display_data"
    }
   ],
   "source": [
    "idxes = [ 1,  2,  3,  4,  5,  6,  7,  8,  9]\n",
    "arr1  = [23, 40, 28, 43,  8, 44, 43, 18, 17]\n",
    "arr2  = [17, 30, 22, 14, 17, 17, 29, 22, 30]\n",
    "arr3  = [15, 31, 18, 22, 18, 19, 13, 32, 39]\n",
    "\n",
    "# Adding legend for stack plots is tricky.\n",
    "plt.plot([], [], color='r', label = 'D 1')\n",
    "plt.plot([], [], color='g', label = 'D 2')\n",
    "plt.plot([], [], color='b', label = 'D 3')\n",
    "\n",
    "plt.stackplot(idxes, arr1, arr2, arr3, colors= ['r', 'g', 'b'])\n",
    "plt.title('Stack Plot Example')\n",
    "plt.legend()\n",
    "plt.show()"
   ]
  },
  {
   "cell_type": "markdown",
   "metadata": {
    "id": "C0LOohpqeCjx"
   },
   "source": [
    "### [6] Pie Chart aka Pita bar"
   ]
  },
  {
   "cell_type": "code",
   "execution_count": 81,
   "metadata": {
    "id": "ZdEG-d4g4U6v"
   },
   "outputs": [
    {
     "data": {
      "image/png": "[encoded data removed]",
      "text/plain": [
       "<Figure size 640x480 with 1 Axes>"
      ]
     },
     "metadata": {},
     "output_type": "display_data"
    }
   ],
   "source": [
    "import matplotlib.pyplot as plt\n",
    "\n",
    "labels = 'Ne', 'Ne - samo u žutoj boji'\n",
    "sections = [80, 20]\n",
    "colors = ['c', 'y']\n",
    "\n",
    "plt.pie(sections, labels=labels, colors=colors,\n",
    "        startangle=90,\n",
    "        explode = (0, 0.1),\n",
    "        autopct = '%1.2f%%')\n",
    "\n",
    "#plt.axis('equal') # Try commenting this out.\n",
    "plt.title('Je li se ovo predavanje zaista dogodilo?')\n",
    "plt.show()"
   ]
  },
  {
   "cell_type": "markdown",
   "metadata": {
    "id": "sX97x87MTyIf"
   },
   "source": [
    "### [7] Fill i alpha"
   ]
  },
  {
   "cell_type": "code",
   "execution_count": 82,
   "metadata": {
    "id": "BCUl8mTMT4sN"
   },
   "outputs": [
    {
     "data": {
      "image/png": "[encoded data removed]",
      "text/plain": [
       "<Figure size 640x480 with 1 Axes>"
      ]
     },
     "metadata": {},
     "output_type": "display_data"
    }
   ],
   "source": [
    "import matplotlib.pyplot as plt\n",
    "import numpy as np\n",
    "\n",
    "ys = 200 + np.random.randn(100)\n",
    "x = [x for x in range(len(ys))]\n",
    "\n",
    "plt.plot(x, ys, '-')\n",
    "plt.fill_between(x, ys, 195, where=(ys > 195), facecolor='g', alpha=0.6)\n",
    "\n",
    "plt.title(\"Fills and Alpha Example\")\n",
    "plt.show()"
   ]
  },
  {
   "cell_type": "markdown",
   "metadata": {
    "id": "jONspxyzeT4Y"
   },
   "source": [
    "### [8] Subplotting "
   ]
  },
  {
   "cell_type": "markdown",
   "metadata": {
    "id": "ycBkQxArofbA"
   },
   "source": [
    "Using subplots"
   ]
  },
  {
   "cell_type": "code",
   "execution_count": 83,
   "metadata": {
    "id": "y30-vx8roAf4"
   },
   "outputs": [
    {
     "data": {
      "image/png": "[encoded data removed]",
      "text/plain": [
       "<Figure size 640x480 with 4 Axes>"
      ]
     },
     "metadata": {},
     "output_type": "display_data"
    }
   ],
   "source": [
    "fig, ax = plt.subplots(2, 2)\n",
    "\n",
    "ax[0, 0].plot(np.random.random(10), color = 'r') #row=0, col=0\n",
    "ax[1, 0].plot(np.random.random(10), color = 'b') #row=1, col=0\n",
    "ax[0, 1].plot(np.random.random(10), color = 'g') #row=0, col=1\n",
    "ax[1, 1].plot(np.random.random(10), color = 'k') #row=1, col=1\n",
    "plt.show()"
   ]
  },
  {
   "cell_type": "markdown",
   "metadata": {
    "id": "p1V_slM8ohza"
   },
   "source": [
    "Korištenje figure-a"
   ]
  },
  {
   "cell_type": "code",
   "execution_count": 84,
   "metadata": {
    "id": "dDAxtFqlnL2N"
   },
   "outputs": [
    {
     "data": {
      "image/png": "[encoded data removed]",
      "text/plain": [
       "<Figure size 640x480 with 2 Axes>"
      ]
     },
     "metadata": {},
     "output_type": "display_data"
    }
   ],
   "source": [
    "fig = plt.figure()\n",
    "ax1 = fig.add_axes([0.1, 0.5, 0.8, 0.4], ylim=(-1.2, 1.2))\n",
    "ax2 = fig.add_axes([0.1, 0.1, 0.8, 0.4], ylim=(-1.2, 1.2))\n",
    "\n",
    "x = np.linspace(0, 10)\n",
    "ax1.plot(np.sin(x))\n",
    "ax2.plot(np.cos(x))\n",
    "\n",
    "plt.show()"
   ]
  },
  {
   "cell_type": "code",
   "execution_count": 85,
   "metadata": {
    "id": "rDWEcisFnMlN"
   },
   "outputs": [
    {
     "data": {
      "image/png": "[encoded data removed]",
      "text/plain": [
       "<Figure size 640x480 with 6 Axes>"
      ]
     },
     "metadata": {},
     "output_type": "display_data"
    }
   ],
   "source": [
    "fig = plt.figure()\n",
    "#fig.subplots_adjust(hspace=0.4, wspace=0.4)\n",
    "\n",
    "for i in range(1, 7):\n",
    "    plt.subplot(2, 3, i)\n",
    "    plt.text(0.5, 0.5, str((2, 3, i)),fontsize=18, ha='center')"
   ]
  },
  {
   "cell_type": "markdown",
   "metadata": {
    "id": "ejOPyV6pom9s"
   },
   "source": [
    "Korištenje subplot2grid"
   ]
  },
  {
   "cell_type": "code",
   "execution_count": 87,
   "metadata": {
    "id": "JF-dVGj3ExQm"
   },
   "outputs": [
    {
     "data": {
      "image/png": "[encoded data removed]",
      "text/plain": [
       "<Figure size 640x480 with 4 Axes>"
      ]
     },
     "metadata": {},
     "output_type": "display_data"
    }
   ],
   "source": [
    "import matplotlib.pyplot as plt\n",
    "import numpy as np\n",
    "\n",
    "def random_plots():\n",
    "  xs = []\n",
    "  ys = []\n",
    "  \n",
    "  for i in range(20):\n",
    "    x = i\n",
    "    y = np.random.randint(10)\n",
    "    \n",
    "    xs.append(x)\n",
    "    ys.append(y)\n",
    "  \n",
    "  return xs, ys\n",
    "\n",
    "fig = plt.figure()\n",
    "ax1 = plt.subplot2grid((5, 2), (0, 0), rowspan=1, colspan=2)\n",
    "ax2 = plt.subplot2grid((5, 2), (1, 0), rowspan=3, colspan=2)\n",
    "ax3 = plt.subplot2grid((5, 2), (4, 0), rowspan=1, colspan=1)\n",
    "ax4 = plt.subplot2grid((5, 2), (4, 1), rowspan=1, colspan=1)\n",
    "\n",
    "x, y = random_plots()\n",
    "ax1.plot(x, y)\n",
    "\n",
    "x, y = random_plots()\n",
    "ax2.plot(x, y)\n",
    "\n",
    "x, y = random_plots()\n",
    "ax3.plot(x, y)\n",
    "\n",
    "x, y = random_plots()\n",
    "ax4.plot(x, y)\n",
    "\n",
    "plt.tight_layout()\n",
    "plt.show()"
   ]
  },
  {
   "cell_type": "markdown",
   "metadata": {
    "id": "A_xnqKsS27Kx"
   },
   "source": [
    "## VJEŽBE"
   ]
  },
  {
   "cell_type": "markdown",
   "metadata": {
    "id": "-F1Nna0827rg"
   },
   "source": [
    "#### 1. Generirajte numpy niz koji sadrži 50 prirodnih brojeva. Generirajte drugi niz koji je korijen svakog elementa prvog niza.\n",
    "\n",
    "> #### Ovo bi trebali napraviti na dva načina: <br/>  (i) Korištenjem math.sqrt() funkcije računanjem drugog korijena eksplicitno za svaki element korištenjem for petlje <br/> (ii) Korištenjem numpy ufunc np.sqrt().   \n",
    "\n",
    "#### Koristite python timeit funkciju da biste izračunali i isprintali vrijeme poterbno za izvršavanje (i) i (ii). Primjetite ubrzanje/usporenje u slučaju (ii)."
   ]
  },
  {
   "cell_type": "code",
   "execution_count": 88,
   "metadata": {
    "id": "9pJdHTry28XE"
   },
   "outputs": [
    {
     "name": "stdout",
     "output_type": "stream",
     "text": [
      "[82 29 28]\n",
      "[9.05538514 5.38516481 5.29150262]\n",
      "[9.055385138137417, 5.385164807134504, 5.291502622129181]\n"
     ]
    }
   ],
   "source": [
    "import math\n",
    "\n",
    "nizA = np.random.randint(1, 100, 3)\n",
    "nizB = np.sqrt(nizA)\n",
    "nizC = []\n",
    "\n",
    "for i in range(len(nizA)):\n",
    "    nizC.append(math.sqrt(nizA[i]))\n",
    "\n",
    "print(nizA)\n",
    "print(nizB)\n",
    "print(nizC)\t"
   ]
  },
  {
   "cell_type": "markdown",
   "metadata": {},
   "source": [
    "#### 2. Kreirajte niz veličine 10 x 10 sa svim elementima jednakim 0 kroz liniju koda te zamijenite svaki element na 'granici' niza sa brojem 100"
   ]
  },
  {
   "cell_type": "code",
   "execution_count": 91,
   "metadata": {
    "id": "BseRH1hd28-P"
   },
   "outputs": [
    {
     "name": "stdout",
     "output_type": "stream",
     "text": [
      "[[0 0 0 0 0 0 0 0 0 0]\n",
      " [0 0 0 0 0 0 0 0 0 0]\n",
      " [0 0 0 0 0 0 0 0 0 0]\n",
      " [0 0 0 0 0 0 0 0 0 0]\n",
      " [0 0 0 0 0 0 0 0 0 0]\n",
      " [0 0 0 0 0 0 0 0 0 0]\n",
      " [0 0 0 0 0 0 0 0 0 0]\n",
      " [0 0 0 0 0 0 0 0 0 0]\n",
      " [0 0 0 0 0 0 0 0 0 0]\n",
      " [0 0 0 0 0 0 0 0 0 0]]\n",
      "[[100 100 100 100 100 100 100 100 100 100 100 100]\n",
      " [100   0   0   0   0   0   0   0   0   0   0 100]\n",
      " [100   0   0   0   0   0   0   0   0   0   0 100]\n",
      " [100   0   0   0   0   0   0   0   0   0   0 100]\n",
      " [100   0   0   0   0   0   0   0   0   0   0 100]\n",
      " [100   0   0   0   0   0   0   0   0   0   0 100]\n",
      " [100   0   0   0   0   0   0   0   0   0   0 100]\n",
      " [100   0   0   0   0   0   0   0   0   0   0 100]\n",
      " [100   0   0   0   0   0   0   0   0   0   0 100]\n",
      " [100   0   0   0   0   0   0   0   0   0   0 100]\n",
      " [100   0   0   0   0   0   0   0   0   0   0 100]\n",
      " [100 100 100 100 100 100 100 100 100 100 100 100]]\n"
     ]
    }
   ],
   "source": [
    "matrica = np.zeros((10,10), dtype=int)\n",
    "matrica2= np.pad(matrica, 1, mode='constant', constant_values=100)\n",
    "\n",
    "print(matrica)\t\n",
    "print(matrica2)"
   ]
  },
  {
   "cell_type": "markdown",
   "metadata": {},
   "source": [
    "####  3. Kreirajte 1D niz nasumičnih brojeva te kreirajte listu indeksa temeljen na sortiranom nizu"
   ]
  },
  {
   "cell_type": "code",
   "execution_count": 92,
   "metadata": {
    "id": "FCp5Q96I29Uw"
   },
   "outputs": [
    {
     "name": "stdout",
     "output_type": "stream",
     "text": [
      "[79 30 25]\n",
      "[2 1 0]\n"
     ]
    }
   ],
   "source": [
    "nizA = np.random.randint(1, 100, 3)\n",
    "print(nizA)\n",
    "\n",
    "\n",
    "nizA = np.argsort(nizA)\n",
    "\n",
    "print(nizA)"
   ]
  },
  {
   "cell_type": "markdown",
   "metadata": {},
   "source": [
    "#### 4. Kreirajte numpy niz veličine 5 X 10 X 20 koji se sastoji od random int brojeva. Izračunajte srednju vrijednost niza preko različith osi. Nakon toga napravite sumu izračunatih srednjih vrijednosti. Kreirajte plot za svaki od tri rezultata te ih iscrtajte u obliku sublotova koji se nalaze u horizontalnom nizu. \n"
   ]
  },
  {
   "cell_type": "code",
   "execution_count": null,
   "metadata": {
    "id": "lgRf4sIj2_Ze"
   },
   "outputs": [],
   "source": []
  },
  {
   "cell_type": "markdown",
   "metadata": {
    "id": "FOwf22Gfy2U8"
   },
   "source": [
    "### LITERATURA\n",
    "\n",
    "1.   Datacamp NumPy [cheatsheet](https://s3.amazonaws.com/assets.datacamp.com/blog_assets/Numpy_Python_Cheat_Sheet.pdf)\n",
    "2.   [numpy for MATLAB users](https://docs.scipy.org/doc/numpy/user/numpy-for-matlab-users.html)\n",
    "3.  Numpy [reference](https://docs.scipy.org/doc/numpy/reference/)\n",
    "4. Matplotlib [docs](https://matplotlib.org/3.1.1/api/index.html)\n",
    "5. Matplotlib [tutorial](https://matplotlib.org/tutorials/index.html)\n",
    "\n",
    "\n"
   ]
  }
 ],
 "metadata": {
  "colab": {
   "collapsed_sections": [],
   "provenance": []
  },
  "kernelspec": {
   "display_name": "labs",
   "language": "python",
   "name": "python3"
  },
  "language_info": {
   "codemirror_mode": {
    "name": "ipython",
    "version": 3
   },
   "file_extension": ".py",
   "mimetype": "text/x-python",
   "name": "python",
   "nbconvert_exporter": "python",
   "pygments_lexer": "ipython3",
   "version": "3.12.6"
  }
 },
 "nbformat": 4,
 "nbformat_minor": 4
}
